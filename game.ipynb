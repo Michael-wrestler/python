{
 "cells": [
  {
   "cell_type": "code",
   "execution_count": 1,
   "id": "33e62136",
   "metadata": {},
   "outputs": [
    {
     "name": "stdout",
     "output_type": "stream",
     "text": [
      "Средний результат за все игры: -0.67 руб.\n"
     ]
    }
   ],
   "source": [
    "import random\n",
    "\n",
    "def play_game():\n",
    "    winnings = {\n",
    "        777: 200,\n",
    "        999: 100,\n",
    "        555: 50,\n",
    "        333: 15,\n",
    "        111: 10,\n",
    "        77: 5,\n",
    "        7: 3,\n",
    "        00: 2,\n",
    "        0: 1\n",
    "    }\n",
    "\n",
    "    player_money = 0\n",
    "    num_trials = 100000  # Количество попыток\n",
    "\n",
    "    for i in range(num_trials):\n",
    "        player_money -= 1  # Игрок платит 1 рубль за игру\n",
    "        number = random.randint(0, 999)\n",
    "\n",
    "        if number in winnings:\n",
    "            player_money += winnings[number]\n",
    "\n",
    "    return player_money / num_trials\n",
    "\n",
    "average_result = play_game()\n",
    "print(f\"Средний результат за все игры: {average_result:.2f} руб.\")"
   ]
  },
  {
   "cell_type": "markdown",
   "id": "d68aa86c",
   "metadata": {},
   "source": [
    "Вывод: игра не выгодна для игрока"
   ]
  }
 ],
 "metadata": {
  "kernelspec": {
   "display_name": "Python 3 (ipykernel)",
   "language": "python",
   "name": "python3"
  },
  "language_info": {
   "codemirror_mode": {
    "name": "ipython",
    "version": 3
   },
   "file_extension": ".py",
   "mimetype": "text/x-python",
   "name": "python",
   "nbconvert_exporter": "python",
   "pygments_lexer": "ipython3",
   "version": "3.11.5"
  }
 },
 "nbformat": 4,
 "nbformat_minor": 5
}
